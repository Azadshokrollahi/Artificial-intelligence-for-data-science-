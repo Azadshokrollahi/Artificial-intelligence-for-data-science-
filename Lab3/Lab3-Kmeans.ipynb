{
  "cells": [
    {
      "cell_type": "markdown",
      "id": "39444d95-9534-4e00-a43b-c526074796b6",
      "metadata": {
        "id": "39444d95-9534-4e00-a43b-c526074796b6"
      },
      "source": [
        "# <font color='#GGE15D'>**Clustering: Kmeans**</font>"
      ]
    },
    {
      "cell_type": "markdown",
      "id": "d92e6a20-72ff-448d-9d3f-180a750b3644",
      "metadata": {
        "jp-MarkdownHeadingCollapsed": true,
        "tags": [],
        "id": "d92e6a20-72ff-448d-9d3f-180a750b3644"
      },
      "source": [
        "## **🔸 Imports**"
      ]
    },
    {
      "cell_type": "code",
      "execution_count": null,
      "id": "5519d590-222a-4bdb-b2aa-1bc1372bb83f",
      "metadata": {
        "id": "5519d590-222a-4bdb-b2aa-1bc1372bb83f"
      },
      "outputs": [],
      "source": [
        "import pandas as pd\n",
        "import numpy as np\n",
        "import matplotlib.pyplot as plt\n",
        "\n",
        "from sklearn.preprocessing import StandardScaler\n",
        "from sklearn.model_selection import train_test_split\n",
        "from sklearn.datasets import make_classification, make_blobs\n",
        "from sklearn.metrics import silhouette_score, silhouette_samples\n",
        "from sklearn.cluster import *\n",
        "\n",
        "from mlxtend.plotting import plot_decision_regions"
      ]
    },
    {
      "cell_type": "markdown",
      "id": "fe2814e5-019e-4dba-89ce-1e901d56bcb8",
      "metadata": {
        "jp-MarkdownHeadingCollapsed": true,
        "tags": [],
        "id": "fe2814e5-019e-4dba-89ce-1e901d56bcb8"
      },
      "source": [
        "## **🔸 Datasets**"
      ]
    },
    {
      "cell_type": "markdown",
      "source": [
        "<font color='#EE15D'> **Note: This assignment contains 4 datasets. Example 1 is the Mall Customers dataset. Examples 2, 3, and 4 are three generated datasets.**"
      ],
      "metadata": {
        "id": "TQVph9wFAa-7"
      },
      "id": "TQVph9wFAa-7"
    },
    {
      "cell_type": "markdown",
      "id": "da0d64a8-ecb5-4b16-b02e-09a9cd487403",
      "metadata": {
        "jp-MarkdownHeadingCollapsed": true,
        "tags": [],
        "id": "da0d64a8-ecb5-4b16-b02e-09a9cd487403"
      },
      "source": [
        "### Example 1"
      ]
    },
    {
      "cell_type": "code",
      "execution_count": null,
      "id": "dab2715a-4042-4b69-ac79-62b8d443127c",
      "metadata": {
        "id": "dab2715a-4042-4b69-ac79-62b8d443127c"
      },
      "outputs": [],
      "source": [
        "X = pd.read_csv('/content/Mall_Customers.csv')\n",
        "X.columns = ['customer_id', 'gender', 'age', 'annual_income', 'spending_score']\n",
        "X = X.drop('customer_id', axis=1)\n",
        "X['gender'] = X['gender'].map({'Male': 0, 'Female': 1})\n",
        "display(X.head())\n",
        "\n",
        "\n",
        "X_train, X_test = train_test_split(X, test_size=0.2, random_state=0)\n",
        "\n",
        "X_train = X_train.values\n",
        "X_test = X_test.values\n",
        "\n",
        "X_train.shape, X_test.shape"
      ]
    },
    {
      "cell_type": "code",
      "execution_count": null,
      "id": "a4888fe1-dc64-48e3-ac60-bed9672c2951",
      "metadata": {
        "id": "a4888fe1-dc64-48e3-ac60-bed9672c2951"
      },
      "outputs": [],
      "source": [
        "plt.scatter(X_train[:, -2], X_train[:, -1])"
      ]
    },
    {
      "cell_type": "markdown",
      "id": "4d7f171b-6ba9-44a5-9955-1f6381f7169e",
      "metadata": {
        "jp-MarkdownHeadingCollapsed": true,
        "tags": [],
        "id": "4d7f171b-6ba9-44a5-9955-1f6381f7169e"
      },
      "source": [
        "### Example 2"
      ]
    },
    {
      "cell_type": "code",
      "execution_count": null,
      "id": "8bc3434e-ec34-4c59-8644-0a87af769a92",
      "metadata": {
        "id": "8bc3434e-ec34-4c59-8644-0a87af769a92"
      },
      "outputs": [],
      "source": [
        "blob_centers = np.array([[ 0.2,  2.3],\n",
        "                         [-1.5,  2.3],\n",
        "                         [-2.8,  1.8],\n",
        "                         [-2.8,  2.8],\n",
        "                         [-2.8,  1.3]])\n",
        "\n",
        "blob_std = np.array([0.4, 0.3, 0.1, 0.1, 0.1])\n",
        "\n",
        "X2, y2 = make_blobs(n_samples=2000, centers=blob_centers,\n",
        "                  cluster_std=blob_std, random_state=7)\n",
        "\n",
        "plt.scatter(X2[:, 0], X2[:, 1], s=20, c='black', edgecolor='white')"
      ]
    },
    {
      "cell_type": "markdown",
      "id": "73c9261d-4e5b-4f64-bfb6-bafc6a0e2686",
      "metadata": {
        "jp-MarkdownHeadingCollapsed": true,
        "tags": [],
        "id": "73c9261d-4e5b-4f64-bfb6-bafc6a0e2686"
      },
      "source": [
        "### Example 3"
      ]
    },
    {
      "cell_type": "code",
      "execution_count": null,
      "id": "a6ecf3fe-a888-41f2-9155-1ec6cc35b992",
      "metadata": {
        "id": "a6ecf3fe-a888-41f2-9155-1ec6cc35b992"
      },
      "outputs": [],
      "source": [
        "n_samples = 1500\n",
        "np.random.seed(0)\n",
        "\n",
        "t = 1.5 * np.pi * (1 + 3 * np.random.rand(1, n_samples))\n",
        "x = t * np.cos(t)\n",
        "y = t * np.sin(t)\n",
        "\n",
        "X3 = np.concatenate((x, y))\n",
        "X3 += 0.7 * np.random.randn(2, n_samples)\n",
        "X3 = X3.T\n",
        "\n",
        "plt.scatter(X3[:, 0], X3[:, 1])"
      ]
    },
    {
      "cell_type": "markdown",
      "id": "156abcb9-ecc4-4f61-a983-380533af6a06",
      "metadata": {
        "jp-MarkdownHeadingCollapsed": true,
        "tags": [],
        "id": "156abcb9-ecc4-4f61-a983-380533af6a06"
      },
      "source": [
        "### Example 4"
      ]
    },
    {
      "cell_type": "code",
      "execution_count": null,
      "id": "0d9d741d-8c7c-46ac-a9e6-ff9cb8b7594c",
      "metadata": {
        "id": "0d9d741d-8c7c-46ac-a9e6-ff9cb8b7594c"
      },
      "outputs": [],
      "source": [
        "X4 = np.array([[1, 1], [2, 4], [2, 1], [4, 1], [4, 2]])\n",
        "\n",
        "plt.scatter(X4[:, 0], X4[:, 1])"
      ]
    },
    {
      "cell_type": "markdown",
      "id": "66cf6a80-9c54-47e9-92ea-b3c2d20e290f",
      "metadata": {
        "jp-MarkdownHeadingCollapsed": true,
        "tags": [],
        "id": "66cf6a80-9c54-47e9-92ea-b3c2d20e290f"
      },
      "source": [
        "## **🔸 K-means**"
      ]
    },
    {
      "cell_type": "markdown",
      "id": "f7f40df6-3fa6-4c20-8601-5c22d9b646d8",
      "metadata": {
        "jp-MarkdownHeadingCollapsed": true,
        "tags": [],
        "id": "f7f40df6-3fa6-4c20-8601-5c22d9b646d8"
      },
      "source": [
        "### sklearn"
      ]
    },
    {
      "cell_type": "code",
      "execution_count": null,
      "id": "d39c486b-43b7-4692-ade8-98ae2cecae00",
      "metadata": {
        "id": "d39c486b-43b7-4692-ade8-98ae2cecae00"
      },
      "outputs": [],
      "source": [
        "cols = ['gender', 'age', 'annual_income', 'spending_score']\n",
        "idx = [2, 3]\n",
        "X = X_train[:, idx].copy()"
      ]
    },
    {
      "cell_type": "markdown",
      "source": [
        "<font color='#EE15D'>**Question1: Import Kmeans, Consider 3 different numbers of clusters: 2, 3, and 5 on X dataset. Finally, visualize the results and compare the plots.**"
      ],
      "metadata": {
        "id": "aDJuX56s2N3l"
      },
      "id": "aDJuX56s2N3l"
    },
    {
      "cell_type": "code",
      "execution_count": null,
      "id": "4ed456e0-dbbd-4ab0-9ca2-d304e4c8cb0f",
      "metadata": {
        "id": "4ed456e0-dbbd-4ab0-9ca2-d304e4c8cb0f"
      },
      "outputs": [],
      "source": [
        "n = 2  #numbers of clusters\n",
        "kmeans = ........................................................     #complete this code\n",
        "\n",
        "kmeans.fit(X)\n",
        "labels = kmeans.labels_\n",
        "centroids = kmeans.cluster_centers_\n",
        "labels.shape, centroids.shape"
      ]
    },
    {
      "cell_type": "code",
      "execution_count": null,
      "id": "90d9f981-284e-4366-8098-4f2c1be48de8",
      "metadata": {
        "id": "90d9f981-284e-4366-8098-4f2c1be48de8"
      },
      "outputs": [],
      "source": [
        "h = 0.02\n",
        "x_min, x_max = X[:, 0].min() - 1, X[:, 0].max() + 1\n",
        "y_min, y_max = X[:, 1].min() - 1, X[:, 1].max() + 1\n",
        "\n",
        "xx, yy = np.meshgrid(np.arange(x_min, x_max, h),\n",
        "                     np.arange(y_min, y_max, h))\n",
        "\n",
        "Xm = kmeans.predict(np.c_[xx.ravel(), yy.ravel()])\n",
        "Xm = Xm.reshape(xx.shape)"
      ]
    },
    {
      "cell_type": "code",
      "execution_count": null,
      "id": "a37dc693-b697-4b8a-b6a5-362fd0d69386",
      "metadata": {
        "id": "a37dc693-b697-4b8a-b6a5-362fd0d69386"
      },
      "outputs": [],
      "source": [
        "plt.contourf(xx, yy, Xm, cmap=plt.cm.Pastel1)\n",
        "\n",
        "plt.scatter(X[:, 0], X[:, 1], s=100, c='blue')\n",
        "plt.scatter(centroids[: , 0], centroids[: , 1], s=300, c='red')\n",
        "\n",
        "plt.xlabel(cols[idx[0]])\n",
        "plt.ylabel(cols[idx[1]])"
      ]
    },
    {
      "cell_type": "markdown",
      "id": "5dc2a1d1-29ed-4c08-9613-2a94a164fbbc",
      "metadata": {
        "jp-MarkdownHeadingCollapsed": true,
        "tags": [],
        "id": "5dc2a1d1-29ed-4c08-9613-2a94a164fbbc"
      },
      "source": [
        "## **🔸 Elbow & Silhouette**"
      ]
    },
    {
      "cell_type": "markdown",
      "id": "887d2e47-0978-4436-a953-5b0046368a99",
      "metadata": {
        "jp-MarkdownHeadingCollapsed": true,
        "tags": [],
        "id": "887d2e47-0978-4436-a953-5b0046368a99"
      },
      "source": [
        "<font color='#EE15D'> **Question2: Elbow: Write code to compute and plot the elbow curve for the X dataset. Your final plot should match the provided output. Determine where the elbow point is.**"
      ]
    },
    {
      "cell_type": "code",
      "execution_count": null,
      "id": "a02b4164-c053-4fa7-a141-8c3247fe7442",
      "metadata": {
        "colab": {
          "base_uri": "https://localhost:8080/",
          "height": 448
        },
        "id": "a02b4164-c053-4fa7-a141-8c3247fe7442",
        "outputId": "186e1b56-6c5c-4839-affd-a9e6e36618b9"
      },
      "outputs": [
        {
          "output_type": "execute_result",
          "data": {
            "text/plain": [
              "[<matplotlib.lines.Line2D at 0x7d1e5fa528a0>]"
            ]
          },
          "metadata": {},
          "execution_count": 17
        },
        {
          "output_type": "display_data",
          "data": {
            "text/plain": [
              "<Figure size 640x480 with 1 Axes>"
            ],
            "image/png": "[encoded data removed]"
          },
          "metadata": {}
        }
      ],
      "source": [
        "#Do it here\n",
        "#..................................\n",
        "#..................................\n",
        "#..."
      ]
    },
    {
      "cell_type": "markdown",
      "id": "6b8bffd4-f831-43da-be1c-e8f2746afe4f",
      "metadata": {
        "jp-MarkdownHeadingCollapsed": true,
        "tags": [],
        "id": "6b8bffd4-f831-43da-be1c-e8f2746afe4f"
      },
      "source": [
        "### Silhouette score"
      ]
    },
    {
      "cell_type": "markdown",
      "source": [
        "<font color='#EE15D'> **Question3: Calculate sillhoutte score**"
      ],
      "metadata": {
        "id": "JoQJ_vR85HyG"
      },
      "id": "JoQJ_vR85HyG"
    },
    {
      "cell_type": "code",
      "execution_count": null,
      "id": "9550152e-d890-44e2-a7d4-455bc32a0ecc",
      "metadata": {
        "colab": {
          "base_uri": "https://localhost:8080/"
        },
        "id": "9550152e-d890-44e2-a7d4-455bc32a0ecc",
        "outputId": "634795b6-e824-4dfa-a681-c1387a6f5c62"
      },
      "outputs": [
        {
          "output_type": "execute_result",
          "data": {
            "text/plain": [
              "np.float64(0.4040736334137989)"
            ]
          },
          "metadata": {},
          "execution_count": 19
        }
      ],
      "source": [
        "#Do it here\n",
        "#.............................."
      ]
    },
    {
      "cell_type": "markdown",
      "id": "b687eb15-7d95-4ddf-9b65-8cc744411626",
      "metadata": {
        "jp-MarkdownHeadingCollapsed": true,
        "tags": [],
        "id": "b687eb15-7d95-4ddf-9b65-8cc744411626"
      },
      "source": [
        "## **🔸 Hierarchical Clustering**"
      ]
    },
    {
      "cell_type": "markdown",
      "id": "f19882de-8d5c-4176-864f-0f31cddcc951",
      "metadata": {
        "jp-MarkdownHeadingCollapsed": true,
        "tags": [],
        "id": "f19882de-8d5c-4176-864f-0f31cddcc951"
      },
      "source": [
        "### Example 1"
      ]
    },
    {
      "cell_type": "markdown",
      "source": [
        "<font color='#EE15D'> **Question4: Use AgglomerativeClustering of Sklearn with 5 clusters, fit on X2 data and plot it. You just need to complete agg code line**"
      ],
      "metadata": {
        "id": "CrryQRu571dO"
      },
      "id": "CrryQRu571dO"
    },
    {
      "cell_type": "code",
      "execution_count": null,
      "id": "adb8e070-e865-451e-922d-81deef8cae44",
      "metadata": {
        "collapsed": true,
        "id": "adb8e070-e865-451e-922d-81deef8cae44"
      },
      "outputs": [],
      "source": [
        "agg = ........................................................   #complete this code\n",
        "agg.fit(X2)\n",
        "\n",
        "labels = agg.labels_\n",
        "\n",
        "\n",
        "plt.scatter(X2[:, 0], X2[:, 1], s=100, c=labels);"
      ]
    },
    {
      "cell_type": "markdown",
      "id": "573bcfe1-412f-4a09-9485-1a1eb92d4ded",
      "metadata": {
        "jp-MarkdownHeadingCollapsed": true,
        "tags": [],
        "id": "573bcfe1-412f-4a09-9485-1a1eb92d4ded"
      },
      "source": [
        "### Example 2"
      ]
    },
    {
      "cell_type": "markdown",
      "source": [
        "<font color='#EE15D'> **Question5: Apply AgglomerativeClustering on X data with 5 clusters, switch linkage between 'ward', 'single', and 'complete' and compare the plotts. Which is a better method?**"
      ],
      "metadata": {
        "id": "Wsx4kggm80nV"
      },
      "id": "Wsx4kggm80nV"
    },
    {
      "cell_type": "code",
      "execution_count": null,
      "id": "c8b5f32c-596d-4a51-a1ab-07d43c24aa96",
      "metadata": {
        "id": "c8b5f32c-596d-4a51-a1ab-07d43c24aa96"
      },
      "outputs": [],
      "source": [
        "cols = ['gender', 'age', 'annual_income', 'spending_score']\n",
        "idx = [2, 3]\n",
        "X = X_train[:, idx].copy()"
      ]
    },
    {
      "cell_type": "code",
      "source": [
        "agg = .........................................................   #complete this code\n",
        "agg.fit(X)\n",
        "\n",
        "labels = agg.labels_\n",
        "\n",
        "plt.scatter(X[:, 0], X[:, 1], s=100, c=labels);"
      ],
      "metadata": {
        "collapsed": true,
        "id": "nePJzObt8wYp"
      },
      "id": "nePJzObt8wYp",
      "execution_count": null,
      "outputs": []
    },
    {
      "cell_type": "markdown",
      "id": "dbfd6306-1197-4511-b141-297f92011f7f",
      "metadata": {
        "jp-MarkdownHeadingCollapsed": true,
        "tags": [],
        "id": "dbfd6306-1197-4511-b141-297f92011f7f"
      },
      "source": [
        "### Example 3"
      ]
    },
    {
      "cell_type": "markdown",
      "source": [
        "<font color='#EE15D'> **Question6: Apply AgglomerativeClustering on X3 data with 4 clusters, and linkage = 'ward', finally visualize it**"
      ],
      "metadata": {
        "id": "S3pk6qAS9_wW"
      },
      "id": "S3pk6qAS9_wW"
    },
    {
      "cell_type": "code",
      "source": [
        "agg = ..........................................................  #complete this code\n",
        "agg.fit(X3)\n",
        "\n",
        "labels = agg.labels_\n",
        "\n",
        "\n",
        "plt.scatter(X3[:, 0], X3[:, 1], s=100, c=labels);"
      ],
      "metadata": {
        "collapsed": true,
        "id": "d37KaEU7920i"
      },
      "id": "d37KaEU7920i",
      "execution_count": null,
      "outputs": []
    },
    {
      "cell_type": "markdown",
      "id": "c56e6552-21d9-46b8-9fdf-b851fd8de1af",
      "metadata": {
        "jp-MarkdownHeadingCollapsed": true,
        "tags": [],
        "id": "c56e6552-21d9-46b8-9fdf-b851fd8de1af"
      },
      "source": [
        "### Dendrogram (Optional, Extra point)"
      ]
    },
    {
      "cell_type": "markdown",
      "source": [
        "For extra points, you can plot a dendrogram using Agglomerative Clustering on the X4 dataset by applying the function provided in the following link.\n",
        "\n",
        "https://scikit-learn.org/stable/auto_examples/cluster/plot_agglomerative_dendrogram.html"
      ],
      "metadata": {
        "id": "apV0dIPk_lj5"
      },
      "id": "apV0dIPk_lj5"
    },
    {
      "cell_type": "code",
      "execution_count": null,
      "id": "4a942d8d-66a0-4ae1-97ed-deb01528cc8f",
      "metadata": {
        "collapsed": true,
        "jupyter": {
          "outputs_hidden": true
        },
        "tags": [],
        "id": "4a942d8d-66a0-4ae1-97ed-deb01528cc8f"
      },
      "outputs": [],
      "source": [
        "agg = ..............................................................  #complete this code\n",
        "agg.fit(X4)\n",
        "\n",
        "labels = agg.labels_\n",
        "\n",
        "plt.scatter(X4[:, 0], X4[:, 1], s=100, c=labels);"
      ]
    },
    {
      "cell_type": "code",
      "source": [
        "#Do plotting Dendogram here\n",
        "#...........................................                         #complete this"
      ],
      "metadata": {
        "id": "fxNxHHvbAFjx"
      },
      "id": "fxNxHHvbAFjx",
      "execution_count": null,
      "outputs": []
    }
  ],
  "metadata": {
    "kernelspec": {
      "display_name": "Python 3 (ipykernel)",
      "language": "python",
      "name": "python3"
    },
    "language_info": {
      "codemirror_mode": {
        "name": "ipython",
        "version": 3
      },
      "file_extension": ".py",
      "mimetype": "text/x-python",
      "name": "python",
      "nbconvert_exporter": "python",
      "pygments_lexer": "ipython3",
      "version": "3.9.15"
    },
    "colab": {
      "provenance": []
    }
  },
  "nbformat": 4,
  "nbformat_minor": 5
}