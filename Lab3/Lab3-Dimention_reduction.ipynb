{
  "nbformat": 4,
  "nbformat_minor": 0,
  "metadata": {
    "colab": {
      "provenance": []
    },
    "kernelspec": {
      "name": "python3",
      "display_name": "Python 3"
    },
    "language_info": {
      "name": "python"
    }
  },
  "cells": [
    {
      "cell_type": "markdown",
      "source": [
        "# **Dimention Reduction**"
      ],
      "metadata": {
        "id": "sQv4LXeRHEBm"
      }
    },
    {
      "cell_type": "markdown",
      "source": [
        "<font color='#FF15D'> **Task1:**\n",
        "\n",
        "\n",
        "Use **PCA** to reduce the dataset to 3 dimensions and visualize the results.\n",
        "\n",
        "Steps:\n",
        "\n",
        "Standardize the dataset (excluding the Character column).\n",
        "\n",
        "Apply PCA with n_components=3.\n",
        "\n",
        "Create a 3D scatter plot of the transformed data.\n",
        "\n",
        "Add labels (character names) to each point in the plot."
      ],
      "metadata": {
        "id": "DSU4c-WgHXfN"
      }
    },
    {
      "cell_type": "markdown",
      "source": [
        "<font color='#FF15D'>**Task2:**\n",
        "\n",
        "\n",
        "Re-use the same dataset, but this time apply **t-SNE** for dimensionality reduction and visualization.\n",
        "\n",
        "Steps:\n",
        "\n",
        "Standardize the dataset (exclude the Character column).\n",
        "\n",
        "Apply t-SNE with n_components=2 (or 3).\n",
        "\n",
        "Create a scatter plot of the transformed data.\n",
        "\n",
        "Label each point with the character name."
      ],
      "metadata": {
        "id": "CwZ8rItdIOuM"
      }
    },
    {
      "cell_type": "code",
      "execution_count": 1,
      "metadata": {
        "id": "uwcWBKBgGrLn"
      },
      "outputs": [],
      "source": [
        "import pandas as pd\n",
        "from sklearn.preprocessing import StandardScaler\n",
        "from sklearn.decomposition import PCA\n",
        "import matplotlib.pyplot as plt\n",
        "from mpl_toolkits.mplot3d import Axes3D"
      ]
    },
    {
      "cell_type": "code",
      "source": [
        "# Data\n",
        "data = {\n",
        "    'Character': ['ShadowFang', 'IronTusk', 'Arcana', 'ThunderBlaze', 'PhantomStrike', 'BruteHammer'],\n",
        "    'Speed' : [8,3,4,6,7,2],\n",
        "    'Strength' : [7,9,2,6,4,10],\n",
        "    'Defense' : [5,8,3,6,4,9],\n",
        "    'Magic' : [2,1,9,3,4,1],\n",
        "    'Range' : [6,4,8,5,9,3],\n",
        "    'Agility' : [9,2,5,6,8,1]\n",
        "}\n",
        "df = pd.DataFrame(data)"
      ],
      "metadata": {
        "id": "03ffe6piHQMO"
      },
      "execution_count": 2,
      "outputs": []
    }
  ]
}